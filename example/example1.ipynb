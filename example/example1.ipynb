{
 "cells": [
  {
   "cell_type": "code",
   "execution_count": 1,
   "metadata": {
    "collapsed": false
   },
   "outputs": [],
   "source": [
    "%matplotlib inline\n",
    "%load_ext autoreload\n",
    "%autoreload 2\n",
    "import pandas as pd\n",
    "import matplotlib.pyplot as plt\n",
    "from sklearn.datasets.samples_generator import make_blobs\n",
    "from sklearn.ensemble import RandomForestClassifier\n",
    "import random\n",
    "RAND_SEED = 2016 \n",
    "random.seed(RAND_SEED) # change this to see new random data!"
   ]
  },
  {
   "cell_type": "markdown",
   "metadata": {},
   "source": [
    "# Generating some sample data\n",
    "\n",
    "Let's start by generating some random data. We need to set two features (xcoord and y_coord), a domain, and a label\n",
    "for each instance"
   ]
  },
  {
   "cell_type": "code",
   "execution_count": 2,
   "metadata": {
    "collapsed": false
   },
   "outputs": [
    {
     "data": {
      "text/html": [
       "<div>\n",
       "<table border=\"1\" class=\"dataframe\">\n",
       "  <thead>\n",
       "    <tr style=\"text-align: right;\">\n",
       "      <th></th>\n",
       "      <th>x_coord</th>\n",
       "      <th>y_coord</th>\n",
       "      <th>domain_index</th>\n",
       "      <th>label</th>\n",
       "    </tr>\n",
       "  </thead>\n",
       "  <tbody>\n",
       "    <tr>\n",
       "      <th>0</th>\n",
       "      <td>-4.233010</td>\n",
       "      <td>-7.031631</td>\n",
       "      <td>0</td>\n",
       "      <td>False</td>\n",
       "    </tr>\n",
       "    <tr>\n",
       "      <th>1</th>\n",
       "      <td>-0.247390</td>\n",
       "      <td>-11.990834</td>\n",
       "      <td>0</td>\n",
       "      <td>True</td>\n",
       "    </tr>\n",
       "    <tr>\n",
       "      <th>2</th>\n",
       "      <td>-12.692572</td>\n",
       "      <td>-1.336273</td>\n",
       "      <td>2</td>\n",
       "      <td>False</td>\n",
       "    </tr>\n",
       "    <tr>\n",
       "      <th>3</th>\n",
       "      <td>-1.815216</td>\n",
       "      <td>-10.139705</td>\n",
       "      <td>0</td>\n",
       "      <td>False</td>\n",
       "    </tr>\n",
       "    <tr>\n",
       "      <th>4</th>\n",
       "      <td>0.797014</td>\n",
       "      <td>-6.772134</td>\n",
       "      <td>0</td>\n",
       "      <td>True</td>\n",
       "    </tr>\n",
       "    <tr>\n",
       "      <th>5</th>\n",
       "      <td>-6.664596</td>\n",
       "      <td>-8.182627</td>\n",
       "      <td>1</td>\n",
       "      <td>False</td>\n",
       "    </tr>\n",
       "    <tr>\n",
       "      <th>6</th>\n",
       "      <td>1.573792</td>\n",
       "      <td>-13.666909</td>\n",
       "      <td>0</td>\n",
       "      <td>False</td>\n",
       "    </tr>\n",
       "    <tr>\n",
       "      <th>7</th>\n",
       "      <td>-10.735837</td>\n",
       "      <td>-2.730835</td>\n",
       "      <td>1</td>\n",
       "      <td>True</td>\n",
       "    </tr>\n",
       "    <tr>\n",
       "      <th>8</th>\n",
       "      <td>-13.616461</td>\n",
       "      <td>-10.959249</td>\n",
       "      <td>1</td>\n",
       "      <td>True</td>\n",
       "    </tr>\n",
       "    <tr>\n",
       "      <th>9</th>\n",
       "      <td>0.809626</td>\n",
       "      <td>0.797627</td>\n",
       "      <td>2</td>\n",
       "      <td>True</td>\n",
       "    </tr>\n",
       "    <tr>\n",
       "      <th>10</th>\n",
       "      <td>-4.453900</td>\n",
       "      <td>-2.992180</td>\n",
       "      <td>2</td>\n",
       "      <td>True</td>\n",
       "    </tr>\n",
       "    <tr>\n",
       "      <th>11</th>\n",
       "      <td>-4.552508</td>\n",
       "      <td>-1.144473</td>\n",
       "      <td>2</td>\n",
       "      <td>True</td>\n",
       "    </tr>\n",
       "    <tr>\n",
       "      <th>12</th>\n",
       "      <td>-4.491405</td>\n",
       "      <td>-7.242492</td>\n",
       "      <td>2</td>\n",
       "      <td>True</td>\n",
       "    </tr>\n",
       "    <tr>\n",
       "      <th>13</th>\n",
       "      <td>-10.121171</td>\n",
       "      <td>0.221162</td>\n",
       "      <td>1</td>\n",
       "      <td>True</td>\n",
       "    </tr>\n",
       "    <tr>\n",
       "      <th>14</th>\n",
       "      <td>-3.514291</td>\n",
       "      <td>-0.063148</td>\n",
       "      <td>1</td>\n",
       "      <td>True</td>\n",
       "    </tr>\n",
       "  </tbody>\n",
       "</table>\n",
       "</div>"
      ],
      "text/plain": [
       "      x_coord    y_coord  domain_index  label\n",
       "0   -4.233010  -7.031631             0  False\n",
       "1   -0.247390 -11.990834             0   True\n",
       "2  -12.692572  -1.336273             2  False\n",
       "3   -1.815216 -10.139705             0  False\n",
       "4    0.797014  -6.772134             0   True\n",
       "5   -6.664596  -8.182627             1  False\n",
       "6    1.573792 -13.666909             0  False\n",
       "7  -10.735837  -2.730835             1   True\n",
       "8  -13.616461 -10.959249             1   True\n",
       "9    0.809626   0.797627             2   True\n",
       "10  -4.453900  -2.992180             2   True\n",
       "11  -4.552508  -1.144473             2   True\n",
       "12  -4.491405  -7.242492             2   True\n",
       "13 -10.121171   0.221162             1   True\n",
       "14  -3.514291  -0.063148             1   True"
      ]
     },
     "execution_count": 2,
     "metadata": {},
     "output_type": "execute_result"
    },
    {
     "data": {
      "image/png": "[encoded data removed]",
      "text/plain": [
       "<matplotlib.figure.Figure at 0x11500abd0>"
      ]
     },
     "metadata": {},
     "output_type": "display_data"
    }
   ],
   "source": [
    "# randomly generate some data\n",
    "X, domain_index = make_blobs(n_samples=15, centers=3, n_features=2, cluster_std=5)\n",
    "\n",
    "# randomly assigning domain and label\n",
    "all_instances = pd.DataFrame({\"x_coord\" : [x[0] for x in X],\n",
    "              \"y_coord\" : [x[1] for x in X],\n",
    "              \"domain_index\" : domain_index,\n",
    "              \"label\" : [random.choice([True,False]) for _ in X]},\n",
    "             columns = ['x_coord','y_coord','domain_index', 'label']\n",
    "            )\n",
    "\n",
    "# plotting\n",
    "pos_instances = all_instances[all_instances.label == True]\n",
    "neg_instances = all_instances[all_instances.label == False]\n",
    "def add_series(instances, kw_args):\n",
    "    color_list = ['red', 'green', 'blue']\n",
    "    plt.scatter(instances.x_coord, \n",
    "                instances.y_coord, \n",
    "                s=[150 for _ in instances.iterrows()], \n",
    "                label=instances.domain_index,\n",
    "                c=[color_list[i] for i in instances.domain_index],\n",
    "                **kw_args\n",
    "               )\n",
    "    \n",
    "add_series(pos_instances, {\"marker\": \"+\"})\n",
    "add_series(neg_instances, {\"marker\": \"o\"})\n",
    "all_instances"
   ]
  },
  {
   "cell_type": "markdown",
   "metadata": {},
   "source": [
    "The domain is indicated by color.  The positive instances are designated by the plus sign and the negative instances are designated by the circle. "
   ]
  },
  {
   "cell_type": "markdown",
   "metadata": {},
   "source": [
    "# Dividing the data\n",
    "\n",
    "The next step is to get some training and testing data.  Let's try and label three red domain instances.  We will designate these as test instances.  This has the following implications:\n",
    "\n",
    "* The red domain is now the *target domain*\n",
    "* The blue and green domains are the *source domains*\n",
    "* All instances that are not in the three red domain *test instances* are *training instances*\n",
    "\n",
    "Note that some of the training instances are in the target domain.  This represents having some available\n",
    "training data for the domain you are trying to label."
   ]
  },
  {
   "cell_type": "code",
   "execution_count": 3,
   "metadata": {
    "collapsed": false
   },
   "outputs": [
    {
     "data": {
      "image/png": "[encoded data removed]",
      "text/plain": [
       "<matplotlib.figure.Figure at 0x1153bc090>"
      ]
     },
     "metadata": {},
     "output_type": "display_data"
    }
   ],
   "source": [
    "#arbitrarily set domain index 0 as target\n",
    "test_set_domain = 0\n",
    "# we are going to set the first three instances as test data\n",
    "# note that this means that some of the target domain has training instances!\n",
    "test_set = all_instances[all_instances.domain_index == test_set_domain].sample(3, random_state=RAND_SEED)\n",
    "test_set_X = test_set.loc[:, [\"x_coord\", \"y_coord\"]].reset_index(drop=True)\n",
    "test_set_y = test_set.loc[:, [\"label\"]].reset_index(drop=True)\n",
    "\n",
    "# gather all non-test indexes \n",
    "train_pool = all_instances.iloc[all_instances.index.difference(test_set.index), ] \n",
    "train_pool_X = train_pool.loc[:, [\"x_coord\", \"y_coord\"]].reset_index(drop=True)\n",
    "train_pool_y = train_pool[\"label\"].reset_index(drop=True)\n",
    "train_pool_domain = train_pool.domain_index\n",
    "\n",
    "# now let's plot with test instances slightly transparent\n",
    "# so all of the train instances are solid but the test instances are transparent\n",
    "\n",
    "add_series(train_pool[train_pool.label == True], {\"marker\" : \"+\"})\n",
    "add_series(train_pool[train_pool.label == False], {\"marker\" : \"o\"})\n",
    "add_series(test_set[test_set.label == True], {\"marker\" : \"+\", \"alpha\" : .3})\n",
    "add_series(test_set[test_set.label == False], {\"marker\" : \"o\", \"alpha\" : .3})"
   ]
  },
  {
   "cell_type": "markdown",
   "metadata": {},
   "source": [
    "In the above figure, we see that there are 12 *training instances* (which are opaque and from all domains) and 3 *test instances* (which are transparent and from the red target domain).  "
   ]
  },
  {
   "cell_type": "markdown",
   "metadata": {},
   "source": [
    "# Predicting Labels using Transfer Learning\n",
    "\n",
    "We haven't used any of this libraries functionality yet. Let's give it a shot!  Now that we have the training and test data, we simply pass everything to one of the provided classes and call train_filter_test()\n",
    "\n",
    "Let's start with the Source_Baseline class.  This simply uses all available *training source domain* data. This means that only blue and green domain training data are used."
   ]
  },
  {
   "cell_type": "code",
   "execution_count": 4,
   "metadata": {
    "collapsed": true
   },
   "outputs": [],
   "source": [
    "from tl_algs import tl_baseline "
   ]
  },
  {
   "cell_type": "code",
   "execution_count": 5,
   "metadata": {
    "collapsed": false
   },
   "outputs": [
    {
     "name": "stdout",
     "output_type": "stream",
     "text": [
      "confidence\n",
      "[1.0, 0.80000000000000004, 0.80000000000000004]\n",
      "\n",
      "\n",
      "predicted label\n",
      "[ True  True  True]\n"
     ]
    }
   ],
   "source": [
    "confidence, predicted_label = \\\n",
    "    tl_baseline.Source_Baseline(\n",
    "                                test_set_X=test_set_X, \n",
    "                                test_set_domain=test_set_domain, \n",
    "                                train_pool_X=train_pool_X, \n",
    "                                train_pool_y=train_pool_y, \n",
    "                                train_pool_domain=train_pool_domain, \n",
    "                                Base_Classifier=RandomForestClassifier,\n",
    "                                rand_seed=RAND_SEED\n",
    "                               ) \\\n",
    "          .train_filter_test()\n",
    "        \n",
    "print(\"confidence\")\n",
    "print(str(confidence) + \"\\n\\n\")\n",
    "print(\"predicted label\")\n",
    "print(predicted_label)"
   ]
  },
  {
   "cell_type": "markdown",
   "metadata": {},
   "source": [
    "We don't have much training data, but we got some predictions with confidence levels!\n",
    "\n",
    "Let's try again with the Burak filter."
   ]
  },
  {
   "cell_type": "code",
   "execution_count": 6,
   "metadata": {
    "collapsed": true
   },
   "outputs": [],
   "source": [
    "from tl_algs import burak"
   ]
  },
  {
   "cell_type": "code",
   "execution_count": 7,
   "metadata": {
    "collapsed": false
   },
   "outputs": [
    {
     "name": "stdout",
     "output_type": "stream",
     "text": [
      "confidence\n",
      "[1.0, 0.5, 0.5]\n",
      "\n",
      "\n",
      "predicted label\n",
      "[ True False False]\n"
     ]
    }
   ],
   "source": [
    "confidence, predicted_label = burak.Burak(\n",
    "            test_set_X=test_set_X, \n",
    "            test_set_domain=test_set_domain, \n",
    "            train_pool_X=train_pool_X, \n",
    "            train_pool_y=train_pool_y, \n",
    "            train_pool_domain=train_pool_domain,\n",
    "            cluster_factor = 15,\n",
    "            k = 2,\n",
    "            Base_Classifier=RandomForestClassifier,\n",
    "            rand_seed=RAND_SEED\n",
    "           ) \\\n",
    "    .train_filter_test()\n",
    "    \n",
    "        \n",
    "print(\"confidence\")\n",
    "print(str(confidence) + \"\\n\\n\")\n",
    "print(\"predicted label\")\n",
    "print(predicted_label)"
   ]
  },
  {
   "cell_type": "markdown",
   "metadata": {},
   "source": [
    "The process is very similar for all other transfer learning algorithms."
   ]
  },
  {
   "cell_type": "code",
   "execution_count": 8,
   "metadata": {
    "collapsed": true
   },
   "outputs": [],
   "source": [
    "from tl_algs import peters, weighted, trbag"
   ]
  },
  {
   "cell_type": "code",
   "execution_count": 9,
   "metadata": {
    "collapsed": false
   },
   "outputs": [
    {
     "name": "stdout",
     "output_type": "stream",
     "text": [
      "([0.80000000000000004, 0.29999999999999999, 0.29999999999999999], array([ True, False, False], dtype=bool))\n",
      "([0.20000000000000001, 1.0, 1.0], array([False,  True,  True], dtype=bool))\n",
      "([0.0, 0.0, 0.0], [False, False, False])\n",
      "([0.80000000000000004, 0.59999999999999998, 0.59999999999999998], array([ True,  True,  True], dtype=bool))\n",
      "([0.29999999999999999, 0.5, 0.5], array([False, False, False], dtype=bool))\n"
     ]
    }
   ],
   "source": [
    "transfer_learners = [\n",
    "    peters.Peters(test_set_X=test_set_X, \n",
    "                  test_set_domain=test_set_domain, \n",
    "                  train_pool_X=train_pool_X, \n",
    "                  train_pool_y=train_pool_y, \n",
    "                  train_pool_domain=train_pool_domain, \n",
    "                  cluster_factor=15,\n",
    "                  Base_Classifier=RandomForestClassifier,\n",
    "                  rand_seed=RAND_SEED\n",
    "                 ),\n",
    "    weighted.GravityWeight(test_set_X=test_set_X, \n",
    "                  test_set_domain=test_set_domain, \n",
    "                  train_pool_X=train_pool_X, \n",
    "                  train_pool_y=train_pool_y, \n",
    "                  train_pool_domain=train_pool_domain, \n",
    "                  Base_Classifier=RandomForestClassifier,\n",
    "                  rand_seed=RAND_SEED\n",
    "                 ),\n",
    "    trbag.TrBag(test_set_X=test_set_X, \n",
    "                  test_set_domain=test_set_domain, \n",
    "                  train_pool_X=train_pool_X, \n",
    "                  train_pool_y=train_pool_y, \n",
    "                  train_pool_domain=train_pool_domain, \n",
    "                  Base_Classifier=RandomForestClassifier,\n",
    "              \n",
    "                  rand_seed=RAND_SEED\n",
    "                 ),\n",
    "    tl_baseline.Hybrid_Baseline(test_set_X=test_set_X, \n",
    "                  test_set_domain=test_set_domain, \n",
    "                  train_pool_X=train_pool_X, \n",
    "                  train_pool_y=train_pool_y, \n",
    "                  train_pool_domain=train_pool_domain, \n",
    "                  Base_Classifier=RandomForestClassifier,\n",
    "                  rand_seed=RAND_SEED\n",
    "                 ),\n",
    "    tl_baseline.Target_Baseline(test_set_X=test_set_X, \n",
    "                  test_set_domain=test_set_domain, \n",
    "                  train_pool_X=train_pool_X, \n",
    "                  train_pool_y=train_pool_y, \n",
    "                  train_pool_domain=train_pool_domain, \n",
    "                  Base_Classifier=RandomForestClassifier,\n",
    "                  rand_seed=RAND_SEED\n",
    "                 )\n",
    "]\n",
    "\n",
    "for transfer_learner in transfer_learners:\n",
    "    print(transfer_learner.train_filter_test())\n"
   ]
  },
  {
   "cell_type": "code",
   "execution_count": null,
   "metadata": {
    "collapsed": true
   },
   "outputs": [],
   "source": []
  },
  {
   "cell_type": "code",
   "execution_count": null,
   "metadata": {
    "collapsed": true
   },
   "outputs": [],
   "source": []
  },
  {
   "cell_type": "code",
   "execution_count": null,
   "metadata": {
    "collapsed": true
   },
   "outputs": [],
   "source": []
  }
 ],
 "metadata": {
  "kernelspec": {
   "display_name": "Python 2",
   "language": "python",
   "name": "python2"
  },
  "language_info": {
   "codemirror_mode": {
    "name": "ipython",
    "version": 2
   },
   "file_extension": ".py",
   "mimetype": "text/x-python",
   "name": "python",
   "nbconvert_exporter": "python",
   "pygments_lexer": "ipython2",
   "version": "2.7.11"
  }
 },
 "nbformat": 4,
 "nbformat_minor": 0
}
